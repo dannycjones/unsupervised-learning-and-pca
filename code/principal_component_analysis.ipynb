{
 "cells": [
  {
   "cell_type": "markdown",
   "metadata": {},
   "source": [
    "# Adaptive Intelligence COM3240 Assignment A\n",
    "\n",
    "## Principal Component Analysis on the reduced MNIST database\n",
    "\n",
    "### Context\n",
    "\n",
    "A reduced data set derived from the MNIST database http://yann.lecun.com/exdb/mnist/ is provided in csv format. This is also accompanied by a set of labels for the data, purely for guidance purposes."
   ]
  },
  {
   "cell_type": "code",
   "execution_count": null,
   "metadata": {},
   "outputs": [],
   "source": [
    "# Imports & Setup\n",
    "\n",
    "import numpy as np\n",
    "import matplotlib\n",
    "import matplotlib.pyplot as plt\n",
    "from mpl_toolkits.mplot3d import Axes3D\n",
    "from mpl_toolkits.mplot3d import proj3d\n",
    "%matplotlib inline\n",
    "print(\"Numpy Version:\", np.version.version)\n",
    "print(\"MatPlotLib Version:\", matplotlib.__version__)"
   ]
  },
  {
   "cell_type": "code",
   "execution_count": null,
   "metadata": {},
   "outputs": [],
   "source": [
    "# Read in the data set\n",
    "train = np.genfromtxt ('digits/train.csv', delimiter=\",\")\n",
    "train_labels = np.genfromtxt('digits/trainlabels.csv', delimiter=\",\", dtype=int)\n",
    "\n",
    "image_shape = (28, 28) # 28x28 pixels\n",
    "\n",
    "[feature_vector_size, training_sample_size] = np.shape(train) # number of pixels and number of training data\n",
    "print(\"feature_vector_size = %d pixel values\" %(feature_vector_size))\n",
    "print(\"training_sample_size = %d images\" %(training_sample_size))\n",
    "\n",
    "# Prove we've read the data correctly - reshape some input vector into the image shape and display the image\n",
    "image = np.reshape(train[:,2], image_shape, order='F')\n",
    "plt.imshow(image, cmap = 'inferno');"
   ]
  },
  {
   "cell_type": "code",
   "execution_count": null,
   "metadata": {},
   "outputs": [],
   "source": [
    "###\n",
    "### Get the eigenvectors in order of decreasing eigenvalue\n",
    "###\n",
    "mean = np.mean(train, axis=1) # Take the mean of each feature for the training set\n",
    "centered_data = train - mean[:, None] # Indexing is required to ensure shape is (x,1) and not (x,)\n",
    "cov_m = np.cov(centered_data, rowvar=True) # Covariance Matrix!\n",
    "print(\"Covariance Matrix Shape:\", cov_m.shape) # Checkup, correct shape?\n",
    "\n",
    "eig_vals_unsorted, eig_vecs_unsorted = np.linalg.eig(cov_m) # Calculate Eigenvectors & Eigenvalues\n",
    "\n",
    "sorted_indices = np.argsort(eig_vals_unsorted)[::-1] # Find the indices in decreasing order of eigenvalue\n",
    "\n",
    "eig_vals = np.real(eig_vals_unsorted[sorted_indices]) # Fetch the eigenvalues removing any complexity\n",
    "eig_vecs = np.real(eig_vecs_unsorted[sorted_indices]) # Fetch the eigenvectors removing any complexity\n",
    "\n",
    "print(\"\\nFirst few eigenvalues in order:\") # Check they are sorted correctly.\n",
    "for i in range(8):\n",
    "    print(\"[\", i, \"]\", eig_vals[i])\n",
    "    \n",
    "new_data = np.dot(eig_vecs.T, centered_data) # Data in new transformed space"
   ]
  },
  {
   "cell_type": "code",
   "execution_count": null,
   "metadata": {
    "scrolled": false
   },
   "outputs": [],
   "source": [
    "###\n",
    "### Plot the results comparing principal components\n",
    "###\n",
    "\n",
    "# Setup a dictionary of colors!\n",
    "colors = dict({0: '#70bf4fd0', 1: '#c750bbd0', 2: '#6286aed0', 3: '#74bb9cd0', 4: '#634fb1d0', 5: '#c7593cd0', 6: '#c6aa4fd0', 7: '#963b5bd0', 8: '#5c5d36d0', 9: '#cf96b6d0'})\n",
    "\n",
    "# Define combinations of principal components to display\n",
    "plot_combos = [[1,2,3], [2,3,4], [1,3,4], [2,3,5], [3,4,5]]\n",
    "\n",
    "# Lets only compare a few numbers\n",
    "number_whitelist = [0, 1, 6, 7, 4]\n",
    "# number_whitelist = np.arange(10)\n",
    "\n",
    "fig = plt.figure(figsize=(12,7))\n",
    "cols = 3\n",
    "rows = (len(plot_combos) // cols) + 1 # Calculate req'd number of rows\n",
    "\n",
    "# Create set of labels for legend\n",
    "patches = [matplotlib.patches.Patch(color=color, label=num) for num, color in colors.items()]\n",
    "\n",
    "for i, (first, second, third) in enumerate(plot_combos):\n",
    "    # For each combination of components...\n",
    "    ax = fig.add_subplot(rows, cols, i + 1, projection='3d')\n",
    "    \n",
    "    # Setup axis\n",
    "    ax.grid(False)\n",
    "    ax.set_xticks([])\n",
    "    ax.set_yticks([])\n",
    "    ax.set_zticks([])\n",
    "    ax.set_xlabel('PC' + str(first))\n",
    "    ax.set_ylabel('PC' + str(second))\n",
    "    ax.set_zlabel('PC' + str(third))\n",
    "    ax.set_title(\"PCs: %d, %d, %d\" %(first,second,third,))\n",
    "    \n",
    "    annotations = []\n",
    "    \n",
    "    for number in number_whitelist:\n",
    "        # Get data for number\n",
    "        indicies = np.where(train_labels == number)[0]\n",
    "        classified_data = new_data[:, indicies]\n",
    "        \n",
    "        # Annotate cluster center\n",
    "        mean = classified_data.mean(axis=1)\n",
    "        x, y, _ = proj3d.proj_transform(mean[first - 1], mean[second - 1], mean[third - 1], ax.get_proj())\n",
    "        annotations.append((number, (mean[first - 1], mean[second - 1], mean[third - 1])))\n",
    "        \n",
    "        # Plot cluster of number\n",
    "        ax.scatter(new_data[first - 1, indicies], new_data[second - 1, indicies], new_data[third - 1, indicies], c=colors[number], depthshade=True, alpha=0.6, s=5)\n",
    "        \n",
    "    for label, pos_3d in annotations:\n",
    "        # Add all annotations (cluster centers)\n",
    "        x, y, _ = proj3d.proj_transform(*pos_3d, ax.get_proj()) # Transform 3d point to 2d screen space\n",
    "        a = ax.annotate(label, \n",
    "                 [x, y],\n",
    "                 horizontalalignment='center',\n",
    "                 verticalalignment='center',\n",
    "                 size=10, weight='black',\n",
    "                 color='#444444ee',\n",
    "                 backgroundcolor='#ffffffee')\n",
    "        a.set_zorder(10)\n",
    "    \n",
    "plt.legend(title='Legend', handles=patches,bbox_to_anchor=(0.9, 0.38),bbox_transform=plt.gcf().transFigure, ncol=2)\n",
    "\n",
    "plt.tight_layout()\n",
    "plt.show()"
   ]
  },
  {
   "cell_type": "code",
   "execution_count": null,
   "metadata": {
    "collapsed": true
   },
   "outputs": [],
   "source": []
  }
 ],
 "metadata": {
  "kernelspec": {
   "display_name": "Python 3",
   "language": "python",
   "name": "python3"
  },
  "language_info": {
   "codemirror_mode": {
    "name": "ipython",
    "version": 3
   },
   "file_extension": ".py",
   "mimetype": "text/x-python",
   "name": "python",
   "nbconvert_exporter": "python",
   "pygments_lexer": "ipython3",
   "version": "3.6.3"
  }
 },
 "nbformat": 4,
 "nbformat_minor": 2
}
